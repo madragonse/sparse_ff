{
 "cells": [
  {
   "cell_type": "code",
   "execution_count": 1,
   "metadata": {},
   "outputs": [],
   "source": [
    "# imports\n",
    "\n",
    "import torch\n",
    "import torch.nn.functional as F\n",
    "import pytorch_lightning as pl \n",
    "from pytorch_lightning.loggers import TensorBoardLogger\n",
    "from pytorch_lightning.callbacks import EarlyStopping\n",
    "\n",
    "from model import SparseNN\n",
    "from dataloader import MnistDataModule"
   ]
  },
  {
   "cell_type": "code",
   "execution_count": 2,
   "metadata": {},
   "outputs": [
    {
     "name": "stderr",
     "output_type": "stream",
     "text": [
      "Using 16bit Automatic Mixed Precision (AMP)\n",
      "GPU available: True (cuda), used: True\n",
      "TPU available: False, using: 0 TPU cores\n",
      "IPU available: False, using: 0 IPUs\n",
      "HPU available: False, using: 0 HPUs\n",
      "Missing logger folder: tb_logs/curr/100_8_8_red\n",
      "LOCAL_RANK: 0 - CUDA_VISIBLE_DEVICES: [0]\n",
      "\n",
      "  | Name     | Type               | Params\n",
      "------------------------------------------------\n",
      "0 | l1       | Linear             | 78.5 K\n",
      "1 | ff       | SparseFF           | 84.9 K\n",
      "2 | l2       | Linear             | 1.0 K \n",
      "3 | loss     | CrossEntropyLoss   | 0     \n",
      "4 | accuracy | MulticlassAccuracy | 0     \n",
      "------------------------------------------------\n",
      "164 K     Trainable params\n",
      "0         Non-trainable params\n",
      "164 K     Total params\n",
      "0.658     Total estimated model params size (MB)\n"
     ]
    },
    {
     "name": "stdout",
     "output_type": "stream",
     "text": [
      "                                                                           "
     ]
    },
    {
     "name": "stderr",
     "output_type": "stream",
     "text": [
      "/home/maciej/anaconda3/envs/ml/lib/python3.11/site-packages/pytorch_lightning/trainer/connectors/data_connector.py:441: The 'val_dataloader' does not have many workers which may be a bottleneck. Consider increasing the value of the `num_workers` argument` to `num_workers=11` in the `DataLoader` to improve performance.\n",
      "/home/maciej/anaconda3/envs/ml/lib/python3.11/site-packages/pytorch_lightning/trainer/connectors/data_connector.py:441: The 'train_dataloader' does not have many workers which may be a bottleneck. Consider increasing the value of the `num_workers` argument` to `num_workers=11` in the `DataLoader` to improve performance.\n"
     ]
    },
    {
     "name": "stdout",
     "output_type": "stream",
     "text": [
      "Epoch 12: 100%|██████████| 782/782 [00:19<00:00, 39.95it/s, v_num=0, train_loss=0.127, train_acc=0.962]\n"
     ]
    },
    {
     "name": "stderr",
     "output_type": "stream",
     "text": [
      "LOCAL_RANK: 0 - CUDA_VISIBLE_DEVICES: [0]\n",
      "/home/maciej/anaconda3/envs/ml/lib/python3.11/site-packages/pytorch_lightning/trainer/connectors/data_connector.py:441: The 'test_dataloader' does not have many workers which may be a bottleneck. Consider increasing the value of the `num_workers` argument` to `num_workers=11` in the `DataLoader` to improve performance.\n"
     ]
    },
    {
     "name": "stdout",
     "output_type": "stream",
     "text": [
      "Testing DataLoader 0: 100%|██████████| 157/157 [00:02<00:00, 54.83it/s]\n",
      "────────────────────────────────────────────────────────────────────────────────────────────────────────────────────────\n",
      "       Test metric             DataLoader 0\n",
      "────────────────────────────────────────────────────────────────────────────────────────────────────────────────────────\n",
      "        test_acc            0.9513000249862671\n",
      "        test_loss           0.16956700384616852\n",
      "────────────────────────────────────────────────────────────────────────────────────────────────────────────────────────\n"
     ]
    },
    {
     "data": {
      "text/plain": [
       "[{'test_loss': 0.16956700384616852, 'test_acc': 0.9513000249862671}]"
      ]
     },
     "execution_count": 2,
     "metadata": {},
     "output_type": "execute_result"
    }
   ],
   "source": [
    "# execution\n",
    "input_size = 784\n",
    "num_classes = 10\n",
    "hidden_size = 100\n",
    "learning_rate = 0.001\n",
    "batch_size = 64\n",
    "low_rank = 8\n",
    "sparsity = 8\n",
    "num_epochs = 30\n",
    "\n",
    "logger = TensorBoardLogger(\"tb_logs/curr\", name=f\"100_{low_rank}_{sparsity}_red\")\n",
    "\n",
    "model = SparseNN(input_size, num_classes, learning_rate, hidden_size, low_rank, sparsity)\n",
    "dm = MnistDataModule(\"./data\", batch_size=batch_size, num_workers=4)\n",
    "trainer = pl.Trainer(\n",
    "    logger=logger,\n",
    "    accelerator=\"gpu\", \n",
    "    min_epochs=5, \n",
    "    max_epochs=num_epochs, \n",
    "    precision=\"16-mixed\",\n",
    "    callbacks=[EarlyStopping(monitor=\"val_loss\", min_delta=0.0)],\n",
    "    # overfit_batches=2\n",
    ")\n",
    "\n",
    "trainer.fit(model, dm)\n",
    "res = trainer.test(model, dm)\n",
    "res"
   ]
  },
  {
   "cell_type": "code",
   "execution_count": 3,
   "metadata": {},
   "outputs": [
    {
     "name": "stderr",
     "output_type": "stream",
     "text": [
      "Using 16bit Automatic Mixed Precision (AMP)\n",
      "GPU available: True (cuda), used: True\n",
      "TPU available: False, using: 0 TPU cores\n",
      "IPU available: False, using: 0 IPUs\n",
      "HPU available: False, using: 0 HPUs\n",
      "Missing logger folder: tb_logs/curr/100_16_16_red\n",
      "LOCAL_RANK: 0 - CUDA_VISIBLE_DEVICES: [0]\n",
      "\n",
      "  | Name     | Type               | Params\n",
      "------------------------------------------------\n",
      "0 | l1       | Linear             | 78.5 K\n",
      "1 | ff       | SparseFF           | 88.9 K\n",
      "2 | l2       | Linear             | 1.0 K \n",
      "3 | loss     | CrossEntropyLoss   | 0     \n",
      "4 | accuracy | MulticlassAccuracy | 0     \n",
      "------------------------------------------------\n",
      "168 K     Trainable params\n",
      "0         Non-trainable params\n",
      "168 K     Total params\n",
      "0.674     Total estimated model params size (MB)\n"
     ]
    },
    {
     "name": "stdout",
     "output_type": "stream",
     "text": [
      "Epoch 11: 100%|██████████| 782/782 [00:19<00:00, 39.67it/s, v_num=0, train_loss=0.0795, train_acc=0.974]\n"
     ]
    },
    {
     "name": "stderr",
     "output_type": "stream",
     "text": [
      "LOCAL_RANK: 0 - CUDA_VISIBLE_DEVICES: [0]\n"
     ]
    },
    {
     "name": "stdout",
     "output_type": "stream",
     "text": [
      "Testing DataLoader 0: 100%|██████████| 157/157 [00:02<00:00, 71.67it/s]\n",
      "────────────────────────────────────────────────────────────────────────────────────────────────────────────────────────\n",
      "       Test metric             DataLoader 0\n",
      "────────────────────────────────────────────────────────────────────────────────────────────────────────────────────────\n",
      "        test_acc            0.9635999798774719\n",
      "        test_loss           0.14113350212574005\n",
      "────────────────────────────────────────────────────────────────────────────────────────────────────────────────────────\n"
     ]
    },
    {
     "data": {
      "text/plain": [
       "[{'test_loss': 0.14113350212574005, 'test_acc': 0.9635999798774719}]"
      ]
     },
     "execution_count": 3,
     "metadata": {},
     "output_type": "execute_result"
    }
   ],
   "source": [
    "# execution\n",
    "input_size = 784\n",
    "num_classes = 10\n",
    "hidden_size = 100\n",
    "learning_rate = 0.001\n",
    "batch_size = 64\n",
    "low_rank = 16\n",
    "sparsity = 16\n",
    "num_epochs = 30\n",
    "\n",
    "logger = TensorBoardLogger(\"tb_logs/curr\", name=f\"100_{low_rank}_{sparsity}_red\")\n",
    "\n",
    "model = SparseNN(input_size, num_classes, learning_rate, hidden_size, low_rank, sparsity)\n",
    "dm = MnistDataModule(\"./data\", batch_size=batch_size, num_workers=4)\n",
    "trainer = pl.Trainer(\n",
    "    logger=logger,\n",
    "    accelerator=\"gpu\", \n",
    "    min_epochs=5, \n",
    "    max_epochs=num_epochs, \n",
    "    precision=\"16-mixed\",\n",
    "    callbacks=[EarlyStopping(monitor=\"val_loss\", min_delta=0.0)],\n",
    "    # overfit_batches=2\n",
    ")\n",
    "\n",
    "trainer.fit(model, dm)\n",
    "res = trainer.test(model, dm)\n",
    "res"
   ]
  },
  {
   "cell_type": "code",
   "execution_count": 4,
   "metadata": {},
   "outputs": [
    {
     "name": "stderr",
     "output_type": "stream",
     "text": [
      "Using 16bit Automatic Mixed Precision (AMP)\n",
      "GPU available: True (cuda), used: True\n",
      "TPU available: False, using: 0 TPU cores\n",
      "IPU available: False, using: 0 IPUs\n",
      "HPU available: False, using: 0 HPUs\n",
      "LOCAL_RANK: 0 - CUDA_VISIBLE_DEVICES: [0]\n",
      "\n",
      "  | Name     | Type               | Params\n",
      "------------------------------------------------\n",
      "0 | l1       | Linear             | 78.5 K\n",
      "1 | ff       | SparseFF           | 84.9 K\n",
      "2 | l2       | Linear             | 1.0 K \n",
      "3 | loss     | CrossEntropyLoss   | 0     \n",
      "4 | accuracy | MulticlassAccuracy | 0     \n",
      "------------------------------------------------\n",
      "164 K     Trainable params\n",
      "0         Non-trainable params\n",
      "164 K     Total params\n",
      "0.658     Total estimated model params size (MB)\n"
     ]
    },
    {
     "name": "stdout",
     "output_type": "stream",
     "text": [
      "Epoch 12: 100%|██████████| 782/782 [00:15<00:00, 51.36it/s, v_num=1, train_loss=0.108, train_acc=0.966] \n"
     ]
    },
    {
     "name": "stderr",
     "output_type": "stream",
     "text": [
      "LOCAL_RANK: 0 - CUDA_VISIBLE_DEVICES: [0]\n"
     ]
    },
    {
     "name": "stdout",
     "output_type": "stream",
     "text": [
      "Testing DataLoader 0: 100%|██████████| 157/157 [00:01<00:00, 102.02it/s]\n",
      "────────────────────────────────────────────────────────────────────────────────────────────────────────────────────────\n",
      "       Test metric             DataLoader 0\n",
      "────────────────────────────────────────────────────────────────────────────────────────────────────────────────────────\n",
      "        test_acc            0.9546999931335449\n",
      "        test_loss           0.1619594544172287\n",
      "────────────────────────────────────────────────────────────────────────────────────────────────────────────────────────\n"
     ]
    },
    {
     "data": {
      "text/plain": [
       "[{'test_loss': 0.1619594544172287, 'test_acc': 0.9546999931335449}]"
      ]
     },
     "execution_count": 4,
     "metadata": {},
     "output_type": "execute_result"
    }
   ],
   "source": [
    "# execution\n",
    "input_size = 784\n",
    "num_classes = 10\n",
    "hidden_size = 100\n",
    "learning_rate = 0.001\n",
    "batch_size = 64\n",
    "low_rank = 8\n",
    "sparsity = 8\n",
    "num_epochs = 30\n",
    "\n",
    "logger = TensorBoardLogger(\"tb_logs/curr\", name=f\"100_{low_rank}_{sparsity}_red\")\n",
    "\n",
    "model = SparseNN(input_size, num_classes, learning_rate, hidden_size, low_rank, sparsity)\n",
    "dm = MnistDataModule(\"./data\", batch_size=batch_size, num_workers=4)\n",
    "trainer = pl.Trainer(\n",
    "    logger=logger,\n",
    "    accelerator=\"gpu\", \n",
    "    min_epochs=5, \n",
    "    max_epochs=num_epochs, \n",
    "    precision=\"16-mixed\",\n",
    "    callbacks=[EarlyStopping(monitor=\"val_loss\", min_delta=0.0)],\n",
    "    # overfit_batches=2\n",
    ")\n",
    "\n",
    "trainer.fit(model, dm)\n",
    "res = trainer.test(model, dm)\n",
    "res"
   ]
  }
 ],
 "metadata": {
  "kernelspec": {
   "display_name": "ml",
   "language": "python",
   "name": "python3"
  },
  "language_info": {
   "codemirror_mode": {
    "name": "ipython",
    "version": 3
   },
   "file_extension": ".py",
   "mimetype": "text/x-python",
   "name": "python",
   "nbconvert_exporter": "python",
   "pygments_lexer": "ipython3",
   "version": "3.11.5"
  }
 },
 "nbformat": 4,
 "nbformat_minor": 2
}
